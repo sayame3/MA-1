{
  "nbformat": 4,
  "nbformat_minor": 0,
  "metadata": {
    "colab": {
      "provenance": []
    },
    "kernelspec": {
      "name": "python3",
      "display_name": "Python 3"
    },
    "language_info": {
      "name": "python"
    }
  },
  "cells": [
    {
      "cell_type": "code",
      "execution_count": 1,
      "metadata": {
        "colab": {
          "base_uri": "https://localhost:8080/"
        },
        "id": "7QL1s3G-fPu5",
        "outputId": "386684fe-e109-46f8-b9fe-9cb53149198b"
      },
      "outputs": [
        {
          "output_type": "stream",
          "name": "stdout",
          "text": [
            "Updated data with 'Tr' and 'N' replaced by 0:\n",
            "                         Food Name Retinol (µg) Thiamin (mg) Riboflavin (mg)  \\\n",
            "0           Ackee, canned, drained            0         0.03            0.07   \n",
            "1                      Agar, dried            0         0.01            0.22   \n",
            "2  Agar, dried, soaked and drained            0         0.01            0.04   \n",
            "3             Alfalfa sprouts, raw            0         0.04            0.06   \n",
            "4                 Allspice, ground            0         0.10            0.06   \n",
            "\n",
            "  Niacin equivalent (mg) Vitamin B6 (mg) Vitamin B12 (µg) Folate (µg)  \\\n",
            "0                    1.1            0.06              0.0          41   \n",
            "1                      0               0              0.0           0   \n",
            "2                      0               0              0.0           0   \n",
            "3                    1.1            0.03              0.0          36   \n",
            "4                      0               0              0.0           0   \n",
            "\n",
            "  Vitamin C (mg) Vitamin D (µg)  ... Copper (mg) Iodine (µg) Selenium (µg)  \\\n",
            "0             30            0.0  ...        0.27           0             0   \n",
            "1              0            0.0  ...           0           0             0   \n",
            "2              0            0.0  ...           0           0             0   \n",
            "3              2            0.0  ...        0.16           0             0   \n",
            "4              0            0.0  ...        0.55           0             0   \n",
            "\n",
            "  Phosphorus (mg) Chloride (mg) Sodium (mg) Satd FA /100g fd (g)  \\\n",
            "0              47           340         240                    0   \n",
            "1              50             0         110                 0.30   \n",
            "2               8             0          10                    0   \n",
            "3              70             0           6                    0   \n",
            "4             110             0          77                 2.50   \n",
            "\n",
            "  Mono FA /100g food (g) Poly FA /100g food (g) Free sugars (g)  \n",
            "0                      0                      0             0.8  \n",
            "1                   0.10                   0.40             0.0  \n",
            "2                      0                      0             0.0  \n",
            "3                      0                      0             0.3  \n",
            "4                   0.70                   2.40             0.0  \n",
            "\n",
            "[5 rows x 32 columns]\n",
            "The updated table has been saved as: dataset_level_7.xlsx\n"
          ]
        }
      ],
      "source": [
        "import pandas as pd\n",
        "\n",
        "# Read the dataset\n",
        "input_file = '/content/dataset_level_6 (1).xlsx'  # Replace with your input file name\n",
        "data = pd.read_excel(input_file)\n",
        "\n",
        "# Replace 'Tr' and 'N' with 0 in all columns\n",
        "data.replace({'Tr': 0, 'N': 0}, inplace=True)\n",
        "\n",
        "# Print the first few rows to check the changes\n",
        "print(\"Updated data with 'Tr' and 'N' replaced by 0:\")\n",
        "print(data.head())\n",
        "\n",
        "# Save the updated DataFrame to a new Excel file\n",
        "output_file = 'dataset_level_7.xlsx'  # Specify the output file name\n",
        "data.to_excel(output_file, index=False)\n",
        "\n",
        "print(f\"The updated table has been saved as: {output_file}\")"
      ]
    }
  ]
}