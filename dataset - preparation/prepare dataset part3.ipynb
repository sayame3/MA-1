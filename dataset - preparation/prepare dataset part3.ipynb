{
  "nbformat": 4,
  "nbformat_minor": 0,
  "metadata": {
    "colab": {
      "provenance": []
    },
    "kernelspec": {
      "name": "python3",
      "display_name": "Python 3"
    },
    "language_info": {
      "name": "python"
    }
  },
  "cells": [
    {
      "cell_type": "code",
      "source": [
        "input_file = '/content/dataset_level2 (1).xlsx'  # Replace with your input file name\n",
        "data = pd.read_excel(input_file)\n",
        "\n",
        "# Print the column names of the DataFrame\n",
        "print(\"Column names in the table:\")\n",
        "print(data.columns.tolist())"
      ],
      "metadata": {
        "colab": {
          "base_uri": "https://localhost:8080/"
        },
        "id": "9LWiUyZwVvvx",
        "outputId": "604d9cd4-0e0c-47b2-cba6-bcd78ca5b898"
      },
      "execution_count": 2,
      "outputs": [
        {
          "output_type": "stream",
          "name": "stdout",
          "text": [
            "Column names in the table:\n",
            "['Food Code', 'Food Name', 'Description', 'Group', 'Previous', 'Main data references', 'Footnote', 'Water (g)', 'Total nitrogen (g)', 'Protein (g)', 'Fat (g)', 'Carbohydrate (g)', 'Energy (kcal) (kcal)', 'Energy (kJ) (kJ)', 'Starch (g)', 'Oligosaccharide (g)', 'Total sugars (g)', 'Glucose (g)', 'Galactose (g)', 'Fructose (g)', 'Sucrose (g)', 'Maltose (g)', 'Lactose (g)', 'Alcohol (g)', 'NSP (g)', 'AOAC fibre (g)', 'Satd FA /100g FA (g)', 'Satd FA /100g fd (g)', 'n-6 poly /100g FA (g)', 'n-6 poly /100g food (g)', 'n-3 poly /100g FA (g)', 'n-3 poly /100g food (g)', 'cis-Mono FA /100g FA (g)', 'cis-Mono FA /100g Food (g)', 'Mono FA/ 100g FA (g)', 'Mono FA /100g food (g)', 'cis-Polyu FA /100g FA (g)', 'cis-Poly FA /100g Food (g)', 'Poly FA /100g FA (g)', 'Poly FA /100g food (g)', 'Sat FA excl Br /100g FA (g)', 'Sat FA excl Br /100g food (g)', 'Branched chain FA /100g FA (g)', 'Branched chain FA /100g food (g)', 'Trans FAs /100g FA (g)', 'Trans FAs /100g food (g)', 'Cholesterol (mg)', ' ', 'Sodium (mg)', 'Potassium (mg)', 'Calcium (mg)', 'Magnesium (mg)', 'Phosphorus (mg)', 'Iron (mg)', 'Copper (mg)', 'Zinc (mg)', 'Chloride (mg)', 'Manganese (mg)', 'Selenium (µg)', 'Iodine (µg)', 'Retinol (µg)', 'Carotene (µg)', 'Retinol Equivalent (µg)', 'Vitamin D (µg)', 'Vitamin E (mg)', 'Vitamin K1 (µg)', 'Thiamin (mg)', 'Riboflavin (mg)', 'Niacin (mg)', 'Tryptophan/60 (mg)', 'Niacin equivalent (mg)', 'Vitamin B6 (mg)', 'Vitamin B12 (µg)', 'Folate (µg)', 'Pantothenate (mg)', 'Biotin (µg)', 'Vitamin C (mg)', 'All-trans-retinol (µg)', '13-cis-retinol (µg)', 'Dehydroretinol (µg)', 'Retinaldehyde (µg)', 'Alpha-carotene (µg)', 'Beta-carotene (µg)', 'Cryptoxanthins (µg)', 'Lutein (µg)', 'Lycopene (µg)', '25-hydroxy vitamin D3 (µg)', 'Cholecalciferol (µg)', '5-mehtyl folate (µg)', 'Alpha-tocopherol (mg)', 'Beta-tocopherol (mg)', 'Delta-tocopherol (mg)', 'Gamma-tocopherol (mg)', 'Alpha-tocotrienol (mg)', 'Gamma-tocotrienol (mg)', 'C4:0 /100g FA (g)', 'C6:0 /100g FA (g)', 'C8:0 /100g FA (g)', 'C10:0 /100g FA (g)', 'C11:0 ex Br /100g FA (g)', 'C12:0 /100g FA (g)', 'C12:0 ex Br /100g FA (g)', 'C13:0 /100g FA (g)', 'C13:0 ex Br /100g FA (g)', 'C14:0 /100g FA (g)', 'C14:0 ex Br /100g FA (g)', 'C15:0 /100g FA (g)', 'C15:0 ex Br /100g FA (g)', 'C16:0 /100g FA (g)', 'C16:0 ex Br /100g FA (g)', 'C17:0 /100g FA (g)', 'C17:0 ex Br /100g FA (g)', 'C18:0 /100g FA (g)', 'C18:0 ex Br /100g FA (g)', 'C19:0 /100g FA (g)', 'C20:0 /100g FA (g)', 'C20:0 ex Br /100g FA (g)', 'C22:0 /100g FA (g)', 'C22:0 ex Br /100g FA (g)', 'C24:0 /100g FA (g)', 'C24:0 ex Br /100g FA (g)', 'C25:0 ex Br /100g FA (g)', 'C4:0 /100g food (g)', 'C6:0 /100g food (g)', 'C8:0 /100g food (g)', 'C10:0 /100g food (g)', 'C11:0 ex Br /100g food (g)', 'C12:0 /100g food (g)', 'C12:0 ex Br /100g food (g)', 'C13:0 /100g food (g)', 'C13:0 ex Br /100g food (g)', 'C14:0 /100g food (g)', 'C14:0 ex Br /100g food (g)', 'C15:0 /100g food (g)', 'C15:0 ex Br /100g food (g)', 'C16:0 /100g food (g)', 'C16:0 ex Br /100g food (g)', 'C17:0 /100g food (g)', 'C17:0 ex Br /100g food (g)', 'C18:0 /100g food (g)', 'C18:0 ex Br /100g food (g)', 'C19:0 /100g food (g)', 'C20:0 /100g food (g)', 'C20:0 ex Br /100g food (g)', 'C22:0 /100g food (g)', 'C22:0 ex Br /100g food (g)', 'C24:0 /100g food (g)', 'C24:0 ex Br /100g food (g)', 'C25:0 ex Br /100g food (g)', 'C10:1 /100g FA (g)', 'cis C10:1 /100g FA (g)', 'C12:1 /100g FA (g)', 'cis C12:1 /100g FA (g)', 'C14:1 /100g FA (g)', 'cis C14:1 /100g FA (g)', 'C15:1 /100g FA (g)', 'cis C15:1 /100g FA (g)', 'C16:1 /100g FA (g)', 'cis C16:1 /100g FA (g)', 'C17:1 /100g FA (g)', 'cis C17:1 /100g FA (g)', 'C18:1 /100g FA (g)', 'cis C18:1 /100g FA (g)', 'cis/trans C18:1n-9 /100g FA (g)', 'cis/trans C18:1n-7 /100g FA (g)', 'C20:1 /100g FA (g)', 'cis C20:1 /100g FA (g)', 'C22:1 /100g FA (g)', 'cis C22:1 /100g FA (g)', 'cis/trans C22:1n-11 /100g FA (g)', 'cis/trans C22:1n-9 /100g FA (g)', 'C24:1 /100g FA (g)', 'cis C24:1 /100g FA (g)', 'trans monounsaturated /100g FA (g)', 'C10:1 /100g food (g)', 'cis C10:1 /100g food (g)', 'C12:1 /100g food (g)', 'cis C12:1 /100g food (g)', 'C14:1 /100g food (g)', 'cis C14:1 /100g food (g)', 'C15:1 /100g food (g)', 'cis C15:1 /100g food (g)', 'C16:1 /100g food (g)', 'cis C16:1 /100g food (g)', 'C17:1 /100g food (g)', 'cis C17:1 /100g food (g)', 'C18:1 /100g food (g)', 'cis C18:1 /100g food (g)', 'cis/trans C18:1n-9 /100g food (g)', 'cis/trans C18:1n-7 /100g food (g)', 'C20:1 /100g food (g)', 'cis C20:1 /100g food (g)', 'C22:1 /100g food (g)', 'cis C22:1 /100g food (g)', 'cis/trans C22:1n-11 /100g food (g)', 'cis/trans C22:1n-9 /100g food (g)', 'C24:1 /100g food (g)', 'cis C24:1 /100g food (g)', 'trans monounsaturated /100g food (g)', 'C16:2 /100g FA (g)', 'cis C16:2 /100g FA (g)', 'cis C16:3 /100g FA (g)', 'C16:4 /100g FA (g)', 'cis C16:4 /100g FA (g)', 'unknown C16 poly /100g FA (g)', 'C18:2 /100g FA (g)', 'cis n-6 C18:2 /100g FA (g)', 'C18:3 /100g FA (g)', 'cis n-3 C18:3 /100g FA (g)', 'cis n-6 C18:3 /100g FA (g)', 'C18:4 /100g FA (g)', 'cis n-3 C18:4 /100g FA (g)', 'unknown C18 poly /100g FA (g)', 'C20:2 /100g FA (g)', 'cis n-6 C20:2 /100g FA (g)', 'C20:3 /100g FA (g)', 'cis n-6 C20:3 /100g FA (g)', 'C20:4 /100g FA (g)', 'cis n-6 C20:4 /100g FA (g)', 'C20:5 /100g FA (g)', 'cis n-3 C20:5 /100g FA (g)', 'unknown C20 poly /100 FA (g)', 'C21:5 /100g FA (g)', 'cis n-3 C21:5 /100g FA (g)', 'C22:2 /100g FA (g)', 'cis n-6 C22:2 /100g FA (g)', 'cis n-6 C22:3 /100g FA (g)', 'C22:4 /100g FA (g)', 'cis n-6 C22:4 /100g FA (g)', 'C22:5 /100g FA (g)', 'cis n-3 C22:5 /100g FA (g)', 'C22:6 /100g FA (g)', 'cis n-3 C22:6 /100g FA (g)', 'unknown C22 poly /100g FA (g)', 'trans poly /100g FA (g)', 'C16:2 /100g food (g)', 'cis C16:2 /100g food (g)', 'C16:3 /100g food (g)', 'C16:4 /100g food (g)', 'cis C16:4 /100g food (g)', 'unknown C16 poly /100g food (g)', 'C18:2 /100g food (g)', 'cis n-6 C18:2 /100g food (g)', 'C18:3 /100g food (g)', 'cis n-3 C18:3 /100g food (g)', 'cis n-6 C18:3 /100g food (g)', 'C18:4 /100g food (g)', 'cis n-3 C18:4 /100g food (g)', 'unknown C18 poly /100g food (g)', 'C20:2 /100g food (g)', 'cis n-6 C20:2 /100g food (g)', 'C20:3 /100g food (g)', 'cis n-6 C20:3 /100g food (g)', 'C20:4 /100g food (g)', 'cis n-6 C20:4 /100g food (g)', 'C20:5 /100g food (g)', 'cis n-3 C20:5 /100g food (g)', 'unknown C20 poly /100g food (g)', 'C21:5 /100g food (g)', 'cis n-3 C21:5 /100g food (g)', 'C22:2 /100g food (g)', 'cis n-6 C22:2 /100g food (g)', 'cis n-6 C22:3 /100g food (g)', 'C22:4 /100g food (g)', 'cis n-6 C22:4 /100g food (g)', 'C22:5 /100g food (g)', 'cis n-3 C22:5 /100g food (g)', 'C22:6 /100g food (g)', 'cis n-3 C22:6 /100g food (g)', 'unknown C22 poly /100g food (g)', 'trans poly /100g food (g)', 'Total Phytosterols (mg)', 'Other Cholesterol and Phytosterols (mg)', 'Phytosterol (mg)', 'Beta-sitosterol (mg)', 'Brassicasterol (mg)', 'Campesterol (mg)', 'Delta-5-avenasterol (mg)', 'Delta-7-avenasterol (mg)', 'Delta-7-stigmastenol (mg)', 'Stigmasterol (mg)', 'Citric acid (g)', 'Malic acid (g)']\n"
          ]
        }
      ]
    },
    {
      "cell_type": "code",
      "execution_count": 4,
      "metadata": {
        "colab": {
          "base_uri": "https://localhost:8080/"
        },
        "outputId": "cfce2f23-d102-4f7d-a5ab-01f152511d83",
        "id": "voplHiifWLYk"
      },
      "outputs": [
        {
          "output_type": "stream",
          "name": "stdout",
          "text": [
            "The new table has been saved as: dataset_level_3.xlsx\n"
          ]
        }
      ],
      "source": [
        "import pandas as pd\n",
        "\n",
        "# Specify the columns to extract\n",
        "columns_to_extract = [\n",
        "    'Food Name','Retinol (µg)', 'Thiamin (mg)', 'Riboflavin (mg)', 'Niacin equivalent (mg)',\n",
        "    'Vitamin B6 (mg)', 'Vitamin B12 (µg)', 'Folate (µg)', 'Vitamin C (mg)',\n",
        "    'Vitamin D (µg)', 'Description', 'Group', 'Energy (kcal) (kcal)',\n",
        "    'Protein (g)', 'Fat (g)', 'Carbohydrate (g)', 'Glucose (g)', 'Fructose (g)',\n",
        "    'Sucrose (g)', 'Maltose (g)', 'AOAC fibre (g)', 'Iron (mg)', 'Calcium (mg)',\n",
        "    'Magnesium (mg)', 'Potassium (mg)', 'Zinc (mg)', 'Copper (mg)', 'Iodine (µg)',\n",
        "    'Selenium (µg)', 'Phosphorus (mg)', 'Chloride (mg)', 'Sodium (mg)',\n",
        "    'Satd FA /100g fd (g)', 'Mono FA /100g food (g)', 'Poly FA /100g food (g)'\n",
        "]\n",
        "\n",
        "# Extract the specified columns\n",
        "new_data = data[columns_to_extract]\n",
        "\n",
        "# Save as a new Excel file\n",
        "output_file = 'dataset_level_3.xlsx'  # Specify the output file name\n",
        "new_data.to_excel(output_file, index=False)\n",
        "\n",
        "print(\"The new table has been saved as:\", output_file)"
      ]
    },
    {
      "cell_type": "code",
      "source": [
        "# Read the dataset\n",
        "input_file = '/content/dataset_level_3.xlsx'  # Replace with your input file name\n",
        "data = pd.read_excel(input_file)\n"
      ],
      "metadata": {
        "id": "pNZddbLgXagY"
      },
      "execution_count": 6,
      "outputs": []
    },
    {
      "cell_type": "code",
      "source": [
        "columns_to_modify = ['Glucose (g)', 'Fructose (g)', 'Sucrose (g)', 'Maltose (g)']\n",
        "data[columns_to_modify] = data[columns_to_modify].replace({'Tr': 0, 'N': 0})\n",
        "\n",
        "# Print the first few rows to check the changes\n",
        "print(\"Updated data:\")\n",
        "print(data[columns_to_modify].head())\n",
        "\n",
        "# Save the updated DataFrame to a new Excel file\n",
        "output_file = 'dataset_level_3_updated.xlsx'  # Specify the output file name\n",
        "data.to_excel(output_file, index=False)\n",
        "\n",
        "print(\"The updated table has been saved as:\", output_file)"
      ],
      "metadata": {
        "colab": {
          "base_uri": "https://localhost:8080/"
        },
        "id": "d8YAFRT4YmPC",
        "outputId": "777af619-fe2b-4d84-d205-2c230b74c408"
      },
      "execution_count": 8,
      "outputs": [
        {
          "output_type": "stream",
          "name": "stdout",
          "text": [
            "Updated data:\n",
            "  Glucose (g) Fructose (g) Sucrose (g) Maltose (g)\n",
            "0         0.1            0         0.7         0.0\n",
            "1         0.0          0.0         0.0         0.0\n",
            "2         0.0          0.0         0.0         0.0\n",
            "3         0.1          0.2           0         0.0\n",
            "4           0            0           0         0.0\n",
            "The updated table has been saved as: dataset_level_3_updated.xlsx\n"
          ]
        }
      ]
    },
    {
      "cell_type": "code",
      "source": [
        "# Read the dataset\n",
        "input_file = '/content/dataset_level_3_updated.xlsx'  # Replace with your input file name\n",
        "data = pd.read_excel(input_file)\n",
        "\n",
        "# Remove duplicate rows based on the 'Food Name' column\n",
        "data_unique = data.drop_duplicates(subset='Food Name', keep='first')\n",
        "\n",
        "# Print the first few rows to check the result\n",
        "print(\"Data after removing duplicates:\")\n",
        "print(data_unique.head())\n",
        "\n",
        "# Save the updated DataFrame to a new Excel file\n",
        "output_file = 'dataset_level_3_unique.xlsx'  # Specify the output file name\n",
        "data_unique.to_excel(output_file, index=False)\n",
        "\n",
        "print(\"The updated table with unique Food Names has been saved as:\", output_file)"
      ],
      "metadata": {
        "colab": {
          "base_uri": "https://localhost:8080/",
          "height": 356
        },
        "id": "LnWe2IfcZ_17",
        "outputId": "53d71fb7-dbf0-4daf-dedf-66294d64aeff"
      },
      "execution_count": 13,
      "outputs": [
        {
          "output_type": "error",
          "ename": "KeyboardInterrupt",
          "evalue": "",
          "traceback": [
            "\u001b[0;31m---------------------------------------------------------------------------\u001b[0m",
            "\u001b[0;31mKeyboardInterrupt\u001b[0m                         Traceback (most recent call last)",
            "\u001b[0;32m<ipython-input-13-0d0a6d633da0>\u001b[0m in \u001b[0;36m<cell line: 3>\u001b[0;34m()\u001b[0m\n\u001b[1;32m      1\u001b[0m \u001b[0;31m# Read the dataset\u001b[0m\u001b[0;34m\u001b[0m\u001b[0;34m\u001b[0m\u001b[0m\n\u001b[1;32m      2\u001b[0m \u001b[0minput_file\u001b[0m \u001b[0;34m=\u001b[0m \u001b[0;34m'/content/dataset_level_3_updated.xlsx'\u001b[0m  \u001b[0;31m# Replace with your input file name\u001b[0m\u001b[0;34m\u001b[0m\u001b[0;34m\u001b[0m\u001b[0m\n\u001b[0;32m----> 3\u001b[0;31m \u001b[0mdata\u001b[0m \u001b[0;34m=\u001b[0m \u001b[0mpd\u001b[0m\u001b[0;34m.\u001b[0m\u001b[0mread_excel\u001b[0m\u001b[0;34m(\u001b[0m\u001b[0minput_file\u001b[0m\u001b[0;34m)\u001b[0m\u001b[0;34m\u001b[0m\u001b[0;34m\u001b[0m\u001b[0m\n\u001b[0m\u001b[1;32m      4\u001b[0m \u001b[0;34m\u001b[0m\u001b[0m\n\u001b[1;32m      5\u001b[0m \u001b[0;31m# Function to check if the value is numeric\u001b[0m\u001b[0;34m\u001b[0m\u001b[0;34m\u001b[0m\u001b[0m\n",
            "\u001b[0;32m/usr/local/lib/python3.10/dist-packages/pandas/io/excel/_base.py\u001b[0m in \u001b[0;36mread_excel\u001b[0;34m(io, sheet_name, header, names, index_col, usecols, dtype, engine, converters, true_values, false_values, skiprows, nrows, na_values, keep_default_na, na_filter, verbose, parse_dates, date_parser, date_format, thousands, decimal, comment, skipfooter, storage_options, dtype_backend, engine_kwargs)\u001b[0m\n\u001b[1;32m    506\u001b[0m \u001b[0;34m\u001b[0m\u001b[0m\n\u001b[1;32m    507\u001b[0m     \u001b[0;32mtry\u001b[0m\u001b[0;34m:\u001b[0m\u001b[0;34m\u001b[0m\u001b[0;34m\u001b[0m\u001b[0m\n\u001b[0;32m--> 508\u001b[0;31m         data = io.parse(\n\u001b[0m\u001b[1;32m    509\u001b[0m             \u001b[0msheet_name\u001b[0m\u001b[0;34m=\u001b[0m\u001b[0msheet_name\u001b[0m\u001b[0;34m,\u001b[0m\u001b[0;34m\u001b[0m\u001b[0;34m\u001b[0m\u001b[0m\n\u001b[1;32m    510\u001b[0m             \u001b[0mheader\u001b[0m\u001b[0;34m=\u001b[0m\u001b[0mheader\u001b[0m\u001b[0;34m,\u001b[0m\u001b[0;34m\u001b[0m\u001b[0;34m\u001b[0m\u001b[0m\n",
            "\u001b[0;32m/usr/local/lib/python3.10/dist-packages/pandas/io/excel/_base.py\u001b[0m in \u001b[0;36mparse\u001b[0;34m(self, sheet_name, header, names, index_col, usecols, converters, true_values, false_values, skiprows, nrows, na_values, parse_dates, date_parser, date_format, thousands, comment, skipfooter, dtype_backend, **kwds)\u001b[0m\n\u001b[1;32m   1614\u001b[0m         \u001b[0;34m>>\u001b[0m\u001b[0;34m>\u001b[0m \u001b[0mfile\u001b[0m\u001b[0;34m.\u001b[0m\u001b[0mparse\u001b[0m\u001b[0;34m(\u001b[0m\u001b[0;34m)\u001b[0m  \u001b[0;31m# doctest: +SKIP\u001b[0m\u001b[0;34m\u001b[0m\u001b[0;34m\u001b[0m\u001b[0m\n\u001b[1;32m   1615\u001b[0m         \"\"\"\n\u001b[0;32m-> 1616\u001b[0;31m         return self._reader.parse(\n\u001b[0m\u001b[1;32m   1617\u001b[0m             \u001b[0msheet_name\u001b[0m\u001b[0;34m=\u001b[0m\u001b[0msheet_name\u001b[0m\u001b[0;34m,\u001b[0m\u001b[0;34m\u001b[0m\u001b[0;34m\u001b[0m\u001b[0m\n\u001b[1;32m   1618\u001b[0m             \u001b[0mheader\u001b[0m\u001b[0;34m=\u001b[0m\u001b[0mheader\u001b[0m\u001b[0;34m,\u001b[0m\u001b[0;34m\u001b[0m\u001b[0;34m\u001b[0m\u001b[0m\n",
            "\u001b[0;32m/usr/local/lib/python3.10/dist-packages/pandas/io/excel/_base.py\u001b[0m in \u001b[0;36mparse\u001b[0;34m(self, sheet_name, header, names, index_col, usecols, dtype, true_values, false_values, skiprows, nrows, na_values, verbose, parse_dates, date_parser, date_format, thousands, decimal, comment, skipfooter, dtype_backend, **kwds)\u001b[0m\n\u001b[1;32m    776\u001b[0m \u001b[0;34m\u001b[0m\u001b[0m\n\u001b[1;32m    777\u001b[0m             \u001b[0mfile_rows_needed\u001b[0m \u001b[0;34m=\u001b[0m \u001b[0mself\u001b[0m\u001b[0;34m.\u001b[0m\u001b[0m_calc_rows\u001b[0m\u001b[0;34m(\u001b[0m\u001b[0mheader\u001b[0m\u001b[0;34m,\u001b[0m \u001b[0mindex_col\u001b[0m\u001b[0;34m,\u001b[0m \u001b[0mskiprows\u001b[0m\u001b[0;34m,\u001b[0m \u001b[0mnrows\u001b[0m\u001b[0;34m)\u001b[0m\u001b[0;34m\u001b[0m\u001b[0;34m\u001b[0m\u001b[0m\n\u001b[0;32m--> 778\u001b[0;31m             \u001b[0mdata\u001b[0m \u001b[0;34m=\u001b[0m \u001b[0mself\u001b[0m\u001b[0;34m.\u001b[0m\u001b[0mget_sheet_data\u001b[0m\u001b[0;34m(\u001b[0m\u001b[0msheet\u001b[0m\u001b[0;34m,\u001b[0m \u001b[0mfile_rows_needed\u001b[0m\u001b[0;34m)\u001b[0m\u001b[0;34m\u001b[0m\u001b[0;34m\u001b[0m\u001b[0m\n\u001b[0m\u001b[1;32m    779\u001b[0m             \u001b[0;32mif\u001b[0m \u001b[0mhasattr\u001b[0m\u001b[0;34m(\u001b[0m\u001b[0msheet\u001b[0m\u001b[0;34m,\u001b[0m \u001b[0;34m\"close\"\u001b[0m\u001b[0;34m)\u001b[0m\u001b[0;34m:\u001b[0m\u001b[0;34m\u001b[0m\u001b[0;34m\u001b[0m\u001b[0m\n\u001b[1;32m    780\u001b[0m                 \u001b[0;31m# pyxlsb opens two TemporaryFiles\u001b[0m\u001b[0;34m\u001b[0m\u001b[0;34m\u001b[0m\u001b[0m\n",
            "\u001b[0;32m/usr/local/lib/python3.10/dist-packages/pandas/io/excel/_openpyxl.py\u001b[0m in \u001b[0;36mget_sheet_data\u001b[0;34m(self, sheet, file_rows_needed)\u001b[0m\n\u001b[1;32m    613\u001b[0m         \u001b[0mdata\u001b[0m\u001b[0;34m:\u001b[0m \u001b[0mlist\u001b[0m\u001b[0;34m[\u001b[0m\u001b[0mlist\u001b[0m\u001b[0;34m[\u001b[0m\u001b[0mScalar\u001b[0m\u001b[0;34m]\u001b[0m\u001b[0;34m]\u001b[0m \u001b[0;34m=\u001b[0m \u001b[0;34m[\u001b[0m\u001b[0;34m]\u001b[0m\u001b[0;34m\u001b[0m\u001b[0;34m\u001b[0m\u001b[0m\n\u001b[1;32m    614\u001b[0m         \u001b[0mlast_row_with_data\u001b[0m \u001b[0;34m=\u001b[0m \u001b[0;34m-\u001b[0m\u001b[0;36m1\u001b[0m\u001b[0;34m\u001b[0m\u001b[0;34m\u001b[0m\u001b[0m\n\u001b[0;32m--> 615\u001b[0;31m         \u001b[0;32mfor\u001b[0m \u001b[0mrow_number\u001b[0m\u001b[0;34m,\u001b[0m \u001b[0mrow\u001b[0m \u001b[0;32min\u001b[0m \u001b[0menumerate\u001b[0m\u001b[0;34m(\u001b[0m\u001b[0msheet\u001b[0m\u001b[0;34m.\u001b[0m\u001b[0mrows\u001b[0m\u001b[0;34m)\u001b[0m\u001b[0;34m:\u001b[0m\u001b[0;34m\u001b[0m\u001b[0;34m\u001b[0m\u001b[0m\n\u001b[0m\u001b[1;32m    616\u001b[0m             \u001b[0mconverted_row\u001b[0m \u001b[0;34m=\u001b[0m \u001b[0;34m[\u001b[0m\u001b[0mself\u001b[0m\u001b[0;34m.\u001b[0m\u001b[0m_convert_cell\u001b[0m\u001b[0;34m(\u001b[0m\u001b[0mcell\u001b[0m\u001b[0;34m)\u001b[0m \u001b[0;32mfor\u001b[0m \u001b[0mcell\u001b[0m \u001b[0;32min\u001b[0m \u001b[0mrow\u001b[0m\u001b[0;34m]\u001b[0m\u001b[0;34m\u001b[0m\u001b[0;34m\u001b[0m\u001b[0m\n\u001b[1;32m    617\u001b[0m             \u001b[0;32mwhile\u001b[0m \u001b[0mconverted_row\u001b[0m \u001b[0;32mand\u001b[0m \u001b[0mconverted_row\u001b[0m\u001b[0;34m[\u001b[0m\u001b[0;34m-\u001b[0m\u001b[0;36m1\u001b[0m\u001b[0;34m]\u001b[0m \u001b[0;34m==\u001b[0m \u001b[0;34m\"\"\u001b[0m\u001b[0;34m:\u001b[0m\u001b[0;34m\u001b[0m\u001b[0;34m\u001b[0m\u001b[0m\n",
            "\u001b[0;32m/usr/local/lib/python3.10/dist-packages/openpyxl/worksheet/_read_only.py\u001b[0m in \u001b[0;36m_cells_by_row\u001b[0;34m(self, min_col, min_row, max_col, max_row, values_only)\u001b[0m\n\u001b[1;32m     83\u001b[0m                                      timedelta_formats=self.parent._timedelta_formats)\n\u001b[1;32m     84\u001b[0m \u001b[0;34m\u001b[0m\u001b[0m\n\u001b[0;32m---> 85\u001b[0;31m             \u001b[0;32mfor\u001b[0m \u001b[0midx\u001b[0m\u001b[0;34m,\u001b[0m \u001b[0mrow\u001b[0m \u001b[0;32min\u001b[0m \u001b[0mparser\u001b[0m\u001b[0;34m.\u001b[0m\u001b[0mparse\u001b[0m\u001b[0;34m(\u001b[0m\u001b[0;34m)\u001b[0m\u001b[0;34m:\u001b[0m\u001b[0;34m\u001b[0m\u001b[0;34m\u001b[0m\u001b[0m\n\u001b[0m\u001b[1;32m     86\u001b[0m                 \u001b[0;32mif\u001b[0m \u001b[0mmax_row\u001b[0m \u001b[0;32mis\u001b[0m \u001b[0;32mnot\u001b[0m \u001b[0;32mNone\u001b[0m \u001b[0;32mand\u001b[0m \u001b[0midx\u001b[0m \u001b[0;34m>\u001b[0m \u001b[0mmax_row\u001b[0m\u001b[0;34m:\u001b[0m\u001b[0;34m\u001b[0m\u001b[0;34m\u001b[0m\u001b[0m\n\u001b[1;32m     87\u001b[0m                     \u001b[0;32mbreak\u001b[0m\u001b[0;34m\u001b[0m\u001b[0;34m\u001b[0m\u001b[0m\n",
            "\u001b[0;32m/usr/local/lib/python3.10/dist-packages/openpyxl/worksheet/_reader.py\u001b[0m in \u001b[0;36mparse\u001b[0;34m(self)\u001b[0m\n\u001b[1;32m    165\u001b[0m                 \u001b[0melement\u001b[0m\u001b[0;34m.\u001b[0m\u001b[0mclear\u001b[0m\u001b[0;34m(\u001b[0m\u001b[0;34m)\u001b[0m\u001b[0;34m\u001b[0m\u001b[0;34m\u001b[0m\u001b[0m\n\u001b[1;32m    166\u001b[0m             \u001b[0;32melif\u001b[0m \u001b[0mtag_name\u001b[0m \u001b[0;34m==\u001b[0m \u001b[0mROW_TAG\u001b[0m\u001b[0;34m:\u001b[0m\u001b[0;34m\u001b[0m\u001b[0;34m\u001b[0m\u001b[0m\n\u001b[0;32m--> 167\u001b[0;31m                 \u001b[0mrow\u001b[0m \u001b[0;34m=\u001b[0m \u001b[0mself\u001b[0m\u001b[0;34m.\u001b[0m\u001b[0mparse_row\u001b[0m\u001b[0;34m(\u001b[0m\u001b[0melement\u001b[0m\u001b[0;34m)\u001b[0m\u001b[0;34m\u001b[0m\u001b[0;34m\u001b[0m\u001b[0m\n\u001b[0m\u001b[1;32m    168\u001b[0m                 \u001b[0melement\u001b[0m\u001b[0;34m.\u001b[0m\u001b[0mclear\u001b[0m\u001b[0;34m(\u001b[0m\u001b[0;34m)\u001b[0m\u001b[0;34m\u001b[0m\u001b[0;34m\u001b[0m\u001b[0m\n\u001b[1;32m    169\u001b[0m                 \u001b[0;32myield\u001b[0m \u001b[0mrow\u001b[0m\u001b[0;34m\u001b[0m\u001b[0;34m\u001b[0m\u001b[0m\n",
            "\u001b[0;32m/usr/local/lib/python3.10/dist-packages/openpyxl/worksheet/_reader.py\u001b[0m in \u001b[0;36mparse_row\u001b[0;34m(self, row)\u001b[0m\n\u001b[1;32m    301\u001b[0m             \u001b[0mself\u001b[0m\u001b[0;34m.\u001b[0m\u001b[0mrow_dimensions\u001b[0m\u001b[0;34m[\u001b[0m\u001b[0mstr\u001b[0m\u001b[0;34m(\u001b[0m\u001b[0mself\u001b[0m\u001b[0;34m.\u001b[0m\u001b[0mrow_counter\u001b[0m\u001b[0;34m)\u001b[0m\u001b[0;34m]\u001b[0m \u001b[0;34m=\u001b[0m \u001b[0mattrs\u001b[0m\u001b[0;34m\u001b[0m\u001b[0;34m\u001b[0m\u001b[0m\n\u001b[1;32m    302\u001b[0m \u001b[0;34m\u001b[0m\u001b[0m\n\u001b[0;32m--> 303\u001b[0;31m         \u001b[0mcells\u001b[0m \u001b[0;34m=\u001b[0m \u001b[0;34m[\u001b[0m\u001b[0mself\u001b[0m\u001b[0;34m.\u001b[0m\u001b[0mparse_cell\u001b[0m\u001b[0;34m(\u001b[0m\u001b[0mel\u001b[0m\u001b[0;34m)\u001b[0m \u001b[0;32mfor\u001b[0m \u001b[0mel\u001b[0m \u001b[0;32min\u001b[0m \u001b[0mrow\u001b[0m\u001b[0;34m]\u001b[0m\u001b[0;34m\u001b[0m\u001b[0;34m\u001b[0m\u001b[0m\n\u001b[0m\u001b[1;32m    304\u001b[0m         \u001b[0;32mreturn\u001b[0m \u001b[0mself\u001b[0m\u001b[0;34m.\u001b[0m\u001b[0mrow_counter\u001b[0m\u001b[0;34m,\u001b[0m \u001b[0mcells\u001b[0m\u001b[0;34m\u001b[0m\u001b[0;34m\u001b[0m\u001b[0m\n\u001b[1;32m    305\u001b[0m \u001b[0;34m\u001b[0m\u001b[0m\n",
            "\u001b[0;32m/usr/local/lib/python3.10/dist-packages/openpyxl/worksheet/_reader.py\u001b[0m in \u001b[0;36m<listcomp>\u001b[0;34m(.0)\u001b[0m\n\u001b[1;32m    301\u001b[0m             \u001b[0mself\u001b[0m\u001b[0;34m.\u001b[0m\u001b[0mrow_dimensions\u001b[0m\u001b[0;34m[\u001b[0m\u001b[0mstr\u001b[0m\u001b[0;34m(\u001b[0m\u001b[0mself\u001b[0m\u001b[0;34m.\u001b[0m\u001b[0mrow_counter\u001b[0m\u001b[0;34m)\u001b[0m\u001b[0;34m]\u001b[0m \u001b[0;34m=\u001b[0m \u001b[0mattrs\u001b[0m\u001b[0;34m\u001b[0m\u001b[0;34m\u001b[0m\u001b[0m\n\u001b[1;32m    302\u001b[0m \u001b[0;34m\u001b[0m\u001b[0m\n\u001b[0;32m--> 303\u001b[0;31m         \u001b[0mcells\u001b[0m \u001b[0;34m=\u001b[0m \u001b[0;34m[\u001b[0m\u001b[0mself\u001b[0m\u001b[0;34m.\u001b[0m\u001b[0mparse_cell\u001b[0m\u001b[0;34m(\u001b[0m\u001b[0mel\u001b[0m\u001b[0;34m)\u001b[0m \u001b[0;32mfor\u001b[0m \u001b[0mel\u001b[0m \u001b[0;32min\u001b[0m \u001b[0mrow\u001b[0m\u001b[0;34m]\u001b[0m\u001b[0;34m\u001b[0m\u001b[0;34m\u001b[0m\u001b[0m\n\u001b[0m\u001b[1;32m    304\u001b[0m         \u001b[0;32mreturn\u001b[0m \u001b[0mself\u001b[0m\u001b[0;34m.\u001b[0m\u001b[0mrow_counter\u001b[0m\u001b[0;34m,\u001b[0m \u001b[0mcells\u001b[0m\u001b[0;34m\u001b[0m\u001b[0;34m\u001b[0m\u001b[0m\n\u001b[1;32m    305\u001b[0m \u001b[0;34m\u001b[0m\u001b[0m\n",
            "\u001b[0;32m/usr/local/lib/python3.10/dist-packages/openpyxl/worksheet/_reader.py\u001b[0m in \u001b[0;36mparse_cell\u001b[0;34m(self, element)\u001b[0m\n\u001b[1;32m    240\u001b[0m                         \u001b[0mvalue\u001b[0m \u001b[0;34m=\u001b[0m \u001b[0mparse_richtext_string\u001b[0m\u001b[0;34m(\u001b[0m\u001b[0mchild\u001b[0m\u001b[0;34m)\u001b[0m\u001b[0;34m\u001b[0m\u001b[0;34m\u001b[0m\u001b[0m\n\u001b[1;32m    241\u001b[0m                     \u001b[0;32melse\u001b[0m\u001b[0;34m:\u001b[0m\u001b[0;34m\u001b[0m\u001b[0;34m\u001b[0m\u001b[0m\n\u001b[0;32m--> 242\u001b[0;31m                         \u001b[0mvalue\u001b[0m \u001b[0;34m=\u001b[0m \u001b[0mText\u001b[0m\u001b[0;34m.\u001b[0m\u001b[0mfrom_tree\u001b[0m\u001b[0;34m(\u001b[0m\u001b[0mchild\u001b[0m\u001b[0;34m)\u001b[0m\u001b[0;34m.\u001b[0m\u001b[0mcontent\u001b[0m\u001b[0;34m\u001b[0m\u001b[0;34m\u001b[0m\u001b[0m\n\u001b[0m\u001b[1;32m    243\u001b[0m \u001b[0;34m\u001b[0m\u001b[0m\n\u001b[1;32m    244\u001b[0m         \u001b[0;32mreturn\u001b[0m \u001b[0;34m{\u001b[0m\u001b[0;34m'row'\u001b[0m\u001b[0;34m:\u001b[0m\u001b[0mrow\u001b[0m\u001b[0;34m,\u001b[0m \u001b[0;34m'column'\u001b[0m\u001b[0;34m:\u001b[0m\u001b[0mcolumn\u001b[0m\u001b[0;34m,\u001b[0m \u001b[0;34m'value'\u001b[0m\u001b[0;34m:\u001b[0m\u001b[0mvalue\u001b[0m\u001b[0;34m,\u001b[0m \u001b[0;34m'data_type'\u001b[0m\u001b[0;34m:\u001b[0m\u001b[0mdata_type\u001b[0m\u001b[0;34m,\u001b[0m \u001b[0;34m'style_id'\u001b[0m\u001b[0;34m:\u001b[0m\u001b[0mstyle_id\u001b[0m\u001b[0;34m}\u001b[0m\u001b[0;34m\u001b[0m\u001b[0;34m\u001b[0m\u001b[0m\n",
            "\u001b[0;32m/usr/local/lib/python3.10/dist-packages/openpyxl/descriptors/serialisable.py\u001b[0m in \u001b[0;36mfrom_tree\u001b[0;34m(cls, node)\u001b[0m\n\u001b[1;32m    101\u001b[0m                 \u001b[0mattrib\u001b[0m\u001b[0;34m[\u001b[0m\u001b[0mtag\u001b[0m\u001b[0;34m]\u001b[0m \u001b[0;34m=\u001b[0m \u001b[0mobj\u001b[0m\u001b[0;34m\u001b[0m\u001b[0;34m\u001b[0m\u001b[0m\n\u001b[1;32m    102\u001b[0m \u001b[0;34m\u001b[0m\u001b[0m\n\u001b[0;32m--> 103\u001b[0;31m         \u001b[0;32mreturn\u001b[0m \u001b[0mcls\u001b[0m\u001b[0;34m(\u001b[0m\u001b[0;34m**\u001b[0m\u001b[0mattrib\u001b[0m\u001b[0;34m)\u001b[0m\u001b[0;34m\u001b[0m\u001b[0;34m\u001b[0m\u001b[0m\n\u001b[0m\u001b[1;32m    104\u001b[0m \u001b[0;34m\u001b[0m\u001b[0m\n\u001b[1;32m    105\u001b[0m \u001b[0;34m\u001b[0m\u001b[0m\n",
            "\u001b[0;32m/usr/local/lib/python3.10/dist-packages/openpyxl/cell/text.py\u001b[0m in \u001b[0;36m__init__\u001b[0;34m(self, t, r, rPh, phoneticPr)\u001b[0m\n\u001b[1;32m    168\u001b[0m         \u001b[0mself\u001b[0m\u001b[0;34m.\u001b[0m\u001b[0mr\u001b[0m \u001b[0;34m=\u001b[0m \u001b[0mr\u001b[0m\u001b[0;34m\u001b[0m\u001b[0;34m\u001b[0m\u001b[0m\n\u001b[1;32m    169\u001b[0m         \u001b[0mself\u001b[0m\u001b[0;34m.\u001b[0m\u001b[0mrPh\u001b[0m \u001b[0;34m=\u001b[0m \u001b[0mrPh\u001b[0m\u001b[0;34m\u001b[0m\u001b[0;34m\u001b[0m\u001b[0m\n\u001b[0;32m--> 170\u001b[0;31m         \u001b[0mself\u001b[0m\u001b[0;34m.\u001b[0m\u001b[0mphoneticPr\u001b[0m \u001b[0;34m=\u001b[0m \u001b[0mphoneticPr\u001b[0m\u001b[0;34m\u001b[0m\u001b[0;34m\u001b[0m\u001b[0m\n\u001b[0m\u001b[1;32m    171\u001b[0m \u001b[0;34m\u001b[0m\u001b[0m\n\u001b[1;32m    172\u001b[0m \u001b[0;34m\u001b[0m\u001b[0m\n",
            "\u001b[0;32m/usr/local/lib/python3.10/dist-packages/openpyxl/descriptors/base.py\u001b[0m in \u001b[0;36m__set__\u001b[0;34m(self, instance, value)\u001b[0m\n\u001b[1;32m     38\u001b[0m \u001b[0;34m\u001b[0m\u001b[0m\n\u001b[1;32m     39\u001b[0m     \u001b[0;32mdef\u001b[0m \u001b[0m__set__\u001b[0m\u001b[0;34m(\u001b[0m\u001b[0mself\u001b[0m\u001b[0;34m,\u001b[0m \u001b[0minstance\u001b[0m\u001b[0;34m,\u001b[0m \u001b[0mvalue\u001b[0m\u001b[0;34m)\u001b[0m\u001b[0;34m:\u001b[0m\u001b[0;34m\u001b[0m\u001b[0;34m\u001b[0m\u001b[0m\n\u001b[0;32m---> 40\u001b[0;31m         \u001b[0;32mif\u001b[0m \u001b[0;32mnot\u001b[0m \u001b[0misinstance\u001b[0m\u001b[0;34m(\u001b[0m\u001b[0mvalue\u001b[0m\u001b[0;34m,\u001b[0m \u001b[0mself\u001b[0m\u001b[0;34m.\u001b[0m\u001b[0mexpected_type\u001b[0m\u001b[0;34m)\u001b[0m\u001b[0;34m:\u001b[0m\u001b[0;34m\u001b[0m\u001b[0;34m\u001b[0m\u001b[0m\n\u001b[0m\u001b[1;32m     41\u001b[0m             if (not self.allow_none\n\u001b[1;32m     42\u001b[0m                 or (self.allow_none and value is not None)):\n",
            "\u001b[0;31mKeyboardInterrupt\u001b[0m: "
          ]
        }
      ]
    },
    {
      "cell_type": "code",
      "source": [
        "# Read the dataset\n",
        "input_file = '/content/dataset_level_3_unique.xlsx'  # Replace with your input file name\n",
        "data = pd.read_excel(input_file)\n",
        "\n",
        "# Function to check if the value is numeric\n",
        "def is_numeric(value):\n",
        "    try:\n",
        "        float(value)\n",
        "        return True\n",
        "    except ValueError:\n",
        "        return False\n",
        "\n",
        "# Filter rows where 'Fructose (g)' is numeric\n",
        "data_clean = data[data['Fructose (g)'].apply(is_numeric)]\n",
        "\n",
        "# Calculate how many rows were deleted\n",
        "rows_deleted = len(data) - len(data_clean)\n",
        "\n",
        "# Print the number of rows deleted\n",
        "print(f\"Number of rows deleted: {rows_deleted}\")\n",
        "\n",
        "# Save the updated DataFrame to a new Excel file\n",
        "output_file = 'level4.xlsx'  # Specify the output file name\n",
        "data_clean.to_excel(output_file, index=False)\n",
        "\n",
        "print(f\"The cleaned table has been saved as: {output_file}\")"
      ],
      "metadata": {
        "colab": {
          "base_uri": "https://localhost:8080/"
        },
        "id": "_r5xO-dkbP2Q",
        "outputId": "a0d4d314-263a-4bbf-e4c7-280f15c946db"
      },
      "execution_count": 15,
      "outputs": [
        {
          "output_type": "stream",
          "name": "stdout",
          "text": [
            "Number of rows deleted: 1\n",
            "The cleaned table has been saved as: level4.xlsx\n"
          ]
        }
      ]
    },
    {
      "cell_type": "code",
      "source": [
        "input_file = '/content/level4.xlsx'  # Replace with your input file name\n",
        "data = pd.read_excel(input_file)\n",
        "\n",
        "# Calculate 'Free sugars (g)' by summing the four specified columns\n",
        "data['Free sugars (g)'] = data['Glucose (g)'] + data['Fructose (g)'] + data['Sucrose (g)'] + data['Maltose (g)']\n",
        "\n",
        "# Drop the original columns (Glucose, Fructose, Sucrose, and Maltose)\n",
        "data.drop(columns=['Glucose (g)', 'Fructose (g)', 'Sucrose (g)', 'Maltose (g)'], inplace=True)\n",
        "\n",
        "# Print the first few rows to check the result\n",
        "print(\"Updated data with 'Free sugars (g)' column:\")\n",
        "print(data.head())\n",
        "\n",
        "# Save the updated DataFrame to a new Excel file\n",
        "output_file = 'dataset_level_6.xlsx'  # Specify the output file name\n",
        "data.to_excel(output_file, index=False)\n",
        "\n",
        "print(f\"The updated table has been saved as: {output_file}\")"
      ],
      "metadata": {
        "colab": {
          "base_uri": "https://localhost:8080/"
        },
        "id": "PvSXx5qdXznX",
        "outputId": "bdf13ca2-03cc-4e9a-f33a-8b54eb37f183"
      },
      "execution_count": 17,
      "outputs": [
        {
          "output_type": "stream",
          "name": "stdout",
          "text": [
            "Updated data with 'Free sugars (g)' column:\n",
            "                         Food Name Retinol (µg) Thiamin (mg) Riboflavin (mg)  \\\n",
            "0           Ackee, canned, drained            0         0.03            0.07   \n",
            "1                      Agar, dried            0         0.01            0.22   \n",
            "2  Agar, dried, soaked and drained            0         0.01            0.04   \n",
            "3             Alfalfa sprouts, raw            0         0.04            0.06   \n",
            "4                 Allspice, ground            0         0.10            0.06   \n",
            "\n",
            "  Niacin equivalent (mg) Vitamin B6 (mg) Vitamin B12 (µg) Folate (µg)  \\\n",
            "0                    1.1            0.06              0.0          41   \n",
            "1                      N              Tr              0.0           0   \n",
            "2                      N              Tr              0.0           0   \n",
            "3                    1.1            0.03              0.0          36   \n",
            "4                      N               N              0.0           0   \n",
            "\n",
            "  Vitamin C (mg) Vitamin D (µg)  ... Copper (mg) Iodine (µg) Selenium (µg)  \\\n",
            "0             30            0.0  ...        0.27          Tr             N   \n",
            "1              0            0.0  ...           N           N             N   \n",
            "2              0            0.0  ...           N           N             N   \n",
            "3              2            0.0  ...        0.16           N             N   \n",
            "4              0            0.0  ...        0.55           N             N   \n",
            "\n",
            "  Phosphorus (mg) Chloride (mg) Sodium (mg) Satd FA /100g fd (g)  \\\n",
            "0              47           340         240                    N   \n",
            "1              50             N         110                 0.30   \n",
            "2               8             N          10                   Tr   \n",
            "3              70             N           6                    N   \n",
            "4             110             N          77                 2.50   \n",
            "\n",
            "  Mono FA /100g food (g) Poly FA /100g food (g) Free sugars (g)  \n",
            "0                      N                      N             0.8  \n",
            "1                   0.10                   0.40             0.0  \n",
            "2                     Tr                     Tr             0.0  \n",
            "3                      N                      N             0.3  \n",
            "4                   0.70                   2.40             0.0  \n",
            "\n",
            "[5 rows x 32 columns]\n",
            "The updated table has been saved as: dataset_level_6.xlsx\n"
          ]
        }
      ]
    }
  ]
}