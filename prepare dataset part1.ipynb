{
  "nbformat": 4,
  "nbformat_minor": 0,
  "metadata": {
    "colab": {
      "provenance": []
    },
    "kernelspec": {
      "name": "python3",
      "display_name": "Python 3"
    },
    "language_info": {
      "name": "python"
    }
  },
  "cells": [
    {
      "cell_type": "code",
      "execution_count": 1,
      "metadata": {
        "colab": {
          "base_uri": "https://localhost:8080/"
        },
        "id": "vsXZv2v-8736",
        "outputId": "d6a61732-a225-47f9-8d0e-2324ad387183"
      },
      "outputs": [
        {
          "output_type": "stream",
          "name": "stdout",
          "text": [
            "Saved List of tables as List of tables.xlsx\n",
            "Saved 1.1 Notes as 1.1 Notes.xlsx\n",
            "Saved 1.2 Factors as 1.2 Factors.xlsx\n",
            "Saved 1.3 Proximates as 1.3 Proximates.xlsx\n",
            "Saved 1.4 Inorganics as 1.4 Inorganics.xlsx\n",
            "Saved 1.5 Vitamins as 1.5 Vitamins.xlsx\n",
            "Saved 1.6 Vitamin Fractions as 1.6 Vitamin Fractions.xlsx\n",
            "Saved 1.7 (SFA per 100gFA) as 1.7 (SFA per 100gFA).xlsx\n",
            "Saved 1.8 (SFA per 100gFood) as 1.8 (SFA per 100gFood).xlsx\n",
            "Saved 1.9 (MUFA per 100FA) as 1.9 (MUFA per 100FA).xlsx\n",
            "Saved 1.10 (MUFA per 100gFood) as 1.10 (MUFA per 100gFood).xlsx\n",
            "Saved 1.11 (PUFA per 100gFA) as 1.11 (PUFA per 100gFA).xlsx\n",
            "Saved 1.12 (PUFA per 100gFood) as 1.12 (PUFA per 100gFood).xlsx\n",
            "Saved 1.13 Phytosterols as 1.13 Phytosterols.xlsx\n",
            "Saved 1.14 Organic Acids as 1.14 Organic Acids.xlsx\n"
          ]
        }
      ],
      "source": [
        "import pandas as pd\n",
        "\n",
        "# Read the Excel file\n",
        "file_path = 'your_excel_file.xlsx'  # Path to the original Excel file\n",
        "excel = pd.ExcelFile(file_path)\n",
        "\n",
        "# Loop through all sheets in the Excel file\n",
        "for sheet_name in excel.sheet_names:\n",
        "    # Read each sheet into a DataFrame\n",
        "    df = pd.read_excel(excel, sheet_name=sheet_name)\n",
        "\n",
        "    # Save each sheet as a separate Excel file\n",
        "    output_file = f'{sheet_name}.xlsx'  # Name the file after the sheet\n",
        "    df.to_excel(output_file, index=False)\n",
        "    print(f'Saved {sheet_name} as {output_file}')"
      ]
    }
  ]
}